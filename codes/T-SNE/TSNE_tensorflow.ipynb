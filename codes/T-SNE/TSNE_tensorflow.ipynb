{
 "cells": [
  {
   "cell_type": "code",
   "execution_count": 99,
   "metadata": {},
   "outputs": [],
   "source": [
    "import numpy as np\n",
    "import matplotlib.pyplot as plt\n",
    "import tensorflow as tf"
   ]
  },
  {
   "cell_type": "code",
   "execution_count": 100,
   "metadata": {},
   "outputs": [],
   "source": [
    "def cal_pairwise_dist(x):\n",
    "    # '''计算pairwise 距离, x是matrix\n",
    "    # (a-b)^2 = a^2 + b^2 - 2*a*b\n",
    "    # '''\n",
    "    sum_x = np.sum(np.square(x), 1)\n",
    "    # print -2 * np.dot(x, x.T)\n",
    "    # print np.add(-2 * np.dot(x, x.T), sum_x).T\n",
    "    dist = np.add(np.add(-2 * np.dot(x, x.T), sum_x).T, sum_x)\n",
    "    #返回任意两个点之间距离的平方\n",
    "    return dist"
   ]
  },
  {
   "cell_type": "code",
   "execution_count": 101,
   "metadata": {},
   "outputs": [],
   "source": [
    "def cal_perplexity(dist, idx=0, beta=1.0):\n",
    "    # '''计算perplexity, D是距离向量，\n",
    "    # idx指dist中自己与自己距离的位置，beta是高斯分布参数\n",
    "    # 这里的perp仅计算了熵，方便计算\n",
    "    # '''\n",
    "    prob = np.exp(-dist * beta)\n",
    "    # 设置自身prob为0\n",
    "    prob[idx] = 0\n",
    "    sum_prob = np.sum(prob)\n",
    "    if sum_prob == 0:\n",
    "        prob = np.maximum(prob, 1e-12)\n",
    "        perp = -12\n",
    "    else:\n",
    "        perp = np.log(sum_prob) + beta * np.sum(dist * prob) / sum_prob\n",
    "        prob /= sum_prob\n",
    "    #困惑度和pi\\j的概率分布\n",
    "    return perp, prob"
   ]
  },
  {
   "cell_type": "code",
   "execution_count": 102,
   "metadata": {},
   "outputs": [],
   "source": [
    "def seach_prob(x, tol=1e-5, perplexity=30.0):\n",
    "    # '''二分搜索寻找beta,并计算pairwise的prob\n",
    "    # '''\n",
    "    # 初始化参数\n",
    "    print(\"Computing pairwise distances...\")\n",
    "    (n, d) = x.shape\n",
    "    dist = cal_pairwise_dist(x)\n",
    "    pair_prob = np.zeros((n, n))\n",
    "    beta = np.ones((n, 1))\n",
    "    # 取log，方便后续计算\n",
    "    base_perp = np.log(perplexity)\n",
    "\n",
    "    for i in range(n):\n",
    "        if i % 500 == 0:\n",
    "            print(\"Computing pair_prob for point %s of %s ...\" %(i,n))\n",
    "\n",
    "        betamin = -np.inf\n",
    "        betamax = np.inf\n",
    "        #dist[i]需要换不能是所有点\n",
    "        perp, this_prob = cal_perplexity(dist[i], i, beta[i])\n",
    "\n",
    "        # 二分搜索,寻找最佳sigma下的prob\n",
    "        perp_diff = perp - base_perp\n",
    "        tries = 0\n",
    "        while np.abs(perp_diff) > tol and tries < 50:\n",
    "            if perp_diff > 0:\n",
    "                betamin = beta[i].copy()\n",
    "                if betamax == np.inf or betamax == -np.inf:\n",
    "                    beta[i] = beta[i] * 2\n",
    "                else:\n",
    "                    beta[i] = (beta[i] + betamax) / 2\n",
    "            else:\n",
    "                betamax = beta[i].copy()\n",
    "                if betamin == np.inf or betamin == -np.inf:\n",
    "                    beta[i] = beta[i] / 2\n",
    "                else:\n",
    "                    beta[i] = (beta[i] + betamin) / 2\n",
    "\n",
    "            # 更新perb,prob值\n",
    "            perp, this_prob = cal_perplexity(dist[i], i, beta[i])\n",
    "            perp_diff = perp - base_perp\n",
    "            tries = tries + 1\n",
    "        # 记录prob值\n",
    "        pair_prob[i,] = this_prob\n",
    "    print(\"Mean value of sigma: \", np.mean(np.sqrt(1 / beta)))\n",
    "    #每个点对其他点的条件概率分布pi\\j\n",
    "    return pair_prob"
   ]
  },
  {
   "cell_type": "code",
   "execution_count": 107,
   "metadata": {},
   "outputs": [],
   "source": [
    "#使用tensorflow实现T-SNE\n",
    "tf.reset_default_graph()\n",
    "\n",
    "def tsne(data, no_dims=2, initial_dims=50, perplexity=30.0, max_iter=800):\n",
    "    (n, d) = data.shape\n",
    "    print(n,d)\n",
    "    \n",
    "    # 对称化\n",
    "    P = seach_prob(data, 1e-5, perplexity)\n",
    "    P = P + np.transpose(P)\n",
    "    P = P / np.sum(P)   #pij\n",
    "    P = np.maximum(P, 1e-12)\n",
    "    # 随机初始化Y y = np.random.randn(n, no_dims)\n",
    "    # tf.random_normal_initializer(mean=0.0, stddev=1.0, seed=None, dtype=tf.float32)\n",
    "    \n",
    "    X = tf.placeholder(name=\"X\", dtype=tf.float32, shape=[n,n])\n",
    "    \n",
    "    Y = tf.get_variable(name = \"Y\", shape=[n, no_dims],  \n",
    "                        initializer =tf.random_normal_initializer())\n",
    "    \n",
    "    sum_y = tf.reduce_sum(tf.square(Y), 1)\n",
    "    temp = tf.add(tf.transpose(tf.add(-2*tf.matmul(Y, tf.transpose(Y)), sum_y)), sum_y)\n",
    "    num = tf.divide(1,1 + temp)\n",
    "    # 不知道这句能不能执行\n",
    "    one_ = tf.constant([x for x in range(n)])\n",
    "    one_hot = tf.one_hot(one_, n)\n",
    "    num = num - num*one_hot\n",
    "    \n",
    "    Q = num/tf.reduce_sum(num)\n",
    "    Q = tf.maximum(Q, 1e-12)\n",
    "    \n",
    "    learning_rate = 500\n",
    "    loss = tf.reduce_sum(X*tf.log(tf.divide(X,Q)))\n",
    "    \n",
    "    optimizer = tf.train.AdagradOptimizer(learning_rate=learning_rate)\n",
    "    train_op = optimizer.minimize(loss)\n",
    "    \n",
    "    init = tf.global_variables_initializer()\n",
    "    print(\"begin\")\n",
    "    with tf.Session() as sess:\n",
    "        init.run()\n",
    "        for iter in range(max_iter):\n",
    "            sess.run(train_op, feed_dict={X:P})\n",
    "            if iter%50 == 0:\n",
    "                l = sess.run(loss, feed_dict={X:P})\n",
    "                print(\"%d\\t%f\"%(iter, l))\n",
    "        y = sess.run(Y)\n",
    "    print(\"finished\")\n",
    "\n",
    "    return y"
   ]
  },
  {
   "cell_type": "code",
   "execution_count": 108,
   "metadata": {},
   "outputs": [],
   "source": [
    "from sklearn.datasets import load_digits\n",
    "data = load_digits().data\n",
    "label = load_digits().target"
   ]
  },
  {
   "cell_type": "code",
   "execution_count": 109,
   "metadata": {},
   "outputs": [
    {
     "name": "stdout",
     "output_type": "stream",
     "text": [
      "(1797, 64)\n"
     ]
    }
   ],
   "source": [
    "print(data.shape)"
   ]
  },
  {
   "cell_type": "code",
   "execution_count": 110,
   "metadata": {},
   "outputs": [
    {
     "name": "stdout",
     "output_type": "stream",
     "text": [
      "1797 64\n",
      "Computing pairwise distances...\n",
      "Computing pair_prob for point 0 of 1797 ...\n",
      "Computing pair_prob for point 500 of 1797 ...\n",
      "Computing pair_prob for point 1000 of 1797 ...\n",
      "Computing pair_prob for point 1500 of 1797 ...\n",
      "Mean value of sigma:  11.698543429042957\n",
      "begin\n",
      "0\t4.026670\n",
      "50\t1.573123\n",
      "100\t1.308106\n",
      "150\t1.193452\n",
      "200\t1.124338\n",
      "250\t1.077835\n",
      "300\t1.042654\n",
      "350\t1.015760\n",
      "400\t0.993758\n",
      "450\t0.975636\n",
      "500\t0.960953\n",
      "550\t0.948676\n",
      "600\t0.937571\n",
      "650\t0.928422\n",
      "700\t0.920210\n",
      "750\t0.912854\n",
      "finished\n"
     ]
    }
   ],
   "source": [
    "data_2d = tsne(data)"
   ]
  },
  {
   "cell_type": "code",
   "execution_count": 111,
   "metadata": {},
   "outputs": [
    {
     "data": {
      "text/plain": [
       "<matplotlib.collections.PathCollection at 0x7f88b83cea58>"
      ]
     },
     "execution_count": 111,
     "metadata": {},
     "output_type": "execute_result"
    },
    {
     "data": {
      "image/png": "[encoded data removed]",
      "text/plain": [
       "<Figure size 432x288 with 1 Axes>"
      ]
     },
     "metadata": {
      "needs_background": "light"
     },
     "output_type": "display_data"
    }
   ],
   "source": [
    "plt.scatter(data_2d[:,0], data_2d[:,1], 20, label)"
   ]
  },
  {
   "cell_type": "code",
   "execution_count": 65,
   "metadata": {},
   "outputs": [
    {
     "name": "stdout",
     "output_type": "stream",
     "text": [
      "[[0.         0.14764436 0.19822931 0.24899329 0.8401241 ]\n",
      " [0.14764436 0.         0.07773452 0.06620658 0.11568879]\n",
      " [0.19822931 0.07773452 0.         0.53903073 0.16772479]\n",
      " [0.24899332 0.06620658 0.5390307  0.         0.24206233]\n",
      " [0.840124   0.11568879 0.16772479 0.24206233 0.        ]]\n",
      "[[-6.6375798e-01  1.4153293e-01]\n",
      " [-1.0055504e+00  2.5198119e+00]\n",
      " [ 1.3423599e+00 -4.2939713e-04]\n",
      " [ 8.1892943e-01 -7.6279569e-01]\n",
      " [-8.7212080e-01 -2.4172336e-01]]\n"
     ]
    }
   ],
   "source": [
    "tf.reset_default_graph()\n",
    "n = 5\n",
    "no_dims = 2\n",
    "\n",
    "Y = tf.get_variable(name = \"Y\", shape=[n, no_dims],  \n",
    "                    initializer =tf.random_normal_initializer())\n",
    "\n",
    "sum_y = tf.reduce_sum(tf.square(Y), 1)\n",
    "temp = tf.add(tf.transpose(tf.add(-2*tf.matmul(Y, tf.transpose(Y)), sum_y)), sum_y)\n",
    "num = tf.divide(1,1 + temp)\n",
    "\n",
    "\n",
    "\n",
    "init = tf.global_variables_initializer()\n",
    "with tf.Session() as sess:\n",
    "    init.run()\n",
    "    y = sess.run(Y)\n",
    "    res = sess.run(num)\n",
    "print(res)\n",
    "print(y)"
   ]
  },
  {
   "cell_type": "code",
   "execution_count": 47,
   "metadata": {},
   "outputs": [
    {
     "name": "stdout",
     "output_type": "stream",
     "text": [
      "0.2146595214266235\n"
     ]
    }
   ],
   "source": [
    "a = np.array([2.0593538, 1.5450652 ])\n",
    "b = np.array([0.8975018, 0.02564423])\n",
    "print(1/(1+np.sum((a-b)**2)))"
   ]
  },
  {
   "cell_type": "code",
   "execution_count": null,
   "metadata": {},
   "outputs": [],
   "source": []
  }
 ],
 "metadata": {
  "kernelspec": {
   "display_name": "Python 3",
   "language": "python",
   "name": "python3"
  },
  "language_info": {
   "codemirror_mode": {
    "name": "ipython",
    "version": 3
   },
   "file_extension": ".py",
   "mimetype": "text/x-python",
   "name": "python",
   "nbconvert_exporter": "python",
   "pygments_lexer": "ipython3",
   "version": "3.6.4"
  }
 },
 "nbformat": 4,
 "nbformat_minor": 2
}
